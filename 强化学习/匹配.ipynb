{
 "cells": [
  {
   "cell_type": "code",
   "execution_count": 65,
   "metadata": {},
   "outputs": [],
   "source": [
    "import glob as gb\n",
    "import cv2\n",
    "from matplotlib import pyplot as plt \n",
    "import numpy as np\n",
    "img_path = gb.glob(\"/home/ruanlx/强化学习/data/*.png\") "
   ]
  },
  {
   "cell_type": "code",
   "execution_count": 58,
   "metadata": {},
   "outputs": [
    {
     "data": {
      "text/plain": [
       "['/home/ruanlx/强化学习/data/209.png']"
      ]
     },
     "execution_count": 58,
     "metadata": {},
     "output_type": "execute_result"
    }
   ],
   "source": [
    "img_path"
   ]
  },
  {
   "cell_type": "code",
   "execution_count": 71,
   "metadata": {},
   "outputs": [],
   "source": [
    "img_rgb = cv2.imread(img_path[0])\n",
    "img_gray = cv2.cvtColor(img_rgb, cv2.COLOR_BGR2GRAY)\n",
    "template_0 = cv2.imread('./0.png',0)\n",
    "template_4 = cv2.imread('./4.png',0)\n",
    "template_5 = cv2.imread('./5.png',0)\n",
    "template_all=[template_0,template_4,template_5]\n",
    "#plt.imshow(template_0)\n",
    "threshold = 0.8\n",
    "num_loc=[]\n",
    "for template in template_all:\n",
    "    w,h = template.shape[::-1]\n",
    "    res = cv2.matchTemplate(img_gray, template, cv2.TM_CCOEFF_NORMED)\n",
    "    loc = np.where(res >= threshold)\n",
    "    #print(loc[1])\n",
    "    num_loc.append(loc[1])\n",
    "#for pt in zip(*loc[::-1]):\n",
    "#    cv2.rectangle(img_rgb, pt, (pt[0] + w,pt[1] + h), (0,0,255),2)\n",
    "#cv2.imwrite('111.png', img_rgb)"
   ]
  },
  {
   "cell_type": "code",
   "execution_count": 72,
   "metadata": {},
   "outputs": [
    {
     "data": {
      "text/plain": [
       "[array([17]), array([1]), array([9])]"
      ]
     },
     "execution_count": 72,
     "metadata": {},
     "output_type": "execute_result"
    }
   ],
   "source": [
    "num_loc"
   ]
  }
 ],
 "metadata": {
  "kernelspec": {
   "display_name": "Python 3",
   "language": "python",
   "name": "python3"
  },
  "language_info": {
   "codemirror_mode": {
    "name": "ipython",
    "version": 3
   },
   "file_extension": ".py",
   "mimetype": "text/x-python",
   "name": "python",
   "nbconvert_exporter": "python",
   "pygments_lexer": "ipython3",
   "version": "3.6.5"
  }
 },
 "nbformat": 4,
 "nbformat_minor": 2
}
